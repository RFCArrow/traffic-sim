{
 "cells": [
  {
   "cell_type": "markdown",
   "metadata": {},
   "source": []
  },
  {
   "cell_type": "code",
   "execution_count": 1,
   "metadata": {},
   "outputs": [],
   "source": [
    "#import datasets\n",
    "\n",
    "\n"
   ]
  },
  {
   "cell_type": "code",
   "execution_count": null,
   "metadata": {},
   "outputs": [],
   "source": []
  },
  {
   "cell_type": "code",
   "execution_count": null,
   "metadata": {},
   "outputs": [],
   "source": [
    "#Define the Road class\n",
    "class Road:\n",
    "    \n",
    "    def __init__(self):\n",
    "        self.widthFootwayEB = 0\n",
    "        self.witdhFlexEB = 0 \n",
    "        self.widthRoadEB = 0\n",
    "        self.widthFootwayWB = 0\n",
    "        self.witdhFlexWB = 0 \n",
    "        self.widthRoadWB = 0 \n",
    "        \n",
    "    def simulate(self):\n",
    "        print(\"simulation beginning\")\n",
    "\n",
    "    def main():\n",
    "        road = Road()\n",
    "        road.simulate()\n",
    "\n",
    "if __name__ == \"__main__\":\n",
    "    main()\n",
    "\n",
    "    \n",
    "    # dimensions of the road\n",
    "    \n",
    "    # \n",
    "    \n",
    "    \n",
    "    \n",
    "    "
   ]
  },
  {
   "cell_type": "code",
   "execution_count": 3,
   "metadata": {},
   "outputs": [],
   "source": [
    "class DemandProfile(object):\n",
    "    \n",
    "    def __init__(self):\n",
    "        self.CarDemand = 0\n",
    "        self.CycleDemand = 0\n",
    "        self.TaxiDemand = 0\n",
    "        self.BusDemand = 0\n",
    "        self.LGVDemand = 0\n",
    "        self.OGVDemand = 0\n",
    "        self.PedestrianDemand = 0\n",
    "        \n",
    "dp = DemandProfile()\n",
    "\n",
    "dict_dp = dp.__dict__\n",
    "\n",
    "\n",
    "\n",
    "    "
   ]
  },
  {
   "cell_type": "code",
   "execution_count": 4,
   "metadata": {},
   "outputs": [
    {
     "data": {
      "text/plain": [
       "{'CarDemand': 0,\n",
       " 'CycleDemand': 0,\n",
       " 'TaxiDemand': 0,\n",
       " 'BusDemand': 0,\n",
       " 'LGVDemand': 0,\n",
       " 'OGVDemand': 0,\n",
       " 'PedestrianDemand': 0}"
      ]
     },
     "execution_count": 4,
     "metadata": {},
     "output_type": "execute_result"
    }
   ],
   "source": [
    "dict_dp"
   ]
  },
  {
   "cell_type": "code",
   "execution_count": null,
   "metadata": {},
   "outputs": [],
   "source": [
    "def GetDemandByModeByTime(time):\n",
    "    ''' Inputs a 4-digit number representing the time, must be in 15-minute intervals (i.e. ending in 00,15,30,45)\n",
    "    Returns a dictionary of travel demand per mode\n",
    "    '''\n",
    "    \n",
    "    \n",
    "    \n",
    "    \n",
    "    \n",
    "    \n",
    "    \n",
    "    \n",
    "    "
   ]
  },
  {
   "cell_type": "code",
   "execution_count": null,
   "metadata": {},
   "outputs": [],
   "source": []
  },
  {
   "cell_type": "code",
   "execution_count": null,
   "metadata": {},
   "outputs": [],
   "source": []
  },
  {
   "cell_type": "code",
   "execution_count": null,
   "metadata": {},
   "outputs": [],
   "source": []
  },
  {
   "cell_type": "code",
   "execution_count": null,
   "metadata": {},
   "outputs": [],
   "source": []
  },
  {
   "cell_type": "code",
   "execution_count": null,
   "metadata": {},
   "outputs": [],
   "source": []
  },
  {
   "cell_type": "code",
   "execution_count": null,
   "metadata": {},
   "outputs": [],
   "source": []
  },
  {
   "cell_type": "code",
   "execution_count": null,
   "metadata": {},
   "outputs": [],
   "source": []
  }
 ],
 "metadata": {
  "kernelspec": {
   "display_name": "Python 3",
   "language": "python",
   "name": "python3"
  },
  "language_info": {
   "codemirror_mode": {
    "name": "ipython",
    "version": 3
   },
   "file_extension": ".py",
   "mimetype": "text/x-python",
   "name": "python",
   "nbconvert_exporter": "python",
   "pygments_lexer": "ipython3",
   "version": "3.7.3"
  }
 },
 "nbformat": 4,
 "nbformat_minor": 2
}
